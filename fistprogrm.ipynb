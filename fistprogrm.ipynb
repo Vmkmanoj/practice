{
 "cells": [
  {
   "cell_type": "code",
   "execution_count": null,
   "metadata": {},
   "outputs": [],
   "source": [
    "num_one=5\n",
    "num_two=4\n",
    "num_three=num_one+num_two\n",
    "print(num_three)"
   ]
  },
  {
   "cell_type": "markdown",
   "metadata": {},
   "source": []
  },
  {
   "cell_type": "code",
   "execution_count": null,
   "metadata": {},
   "outputs": [],
   "source": [
    "num_one=5\n",
    "num_two=4\n",
    "num_three=num_one*num_two\n",
    "print(num_three)"
   ]
  },
  {
   "cell_type": "code",
   "execution_count": null,
   "metadata": {},
   "outputs": [],
   "source": [
    "num_one=5\n",
    "num_two=4\n",
    "num_three=num_one-num_two\n",
    "print(num_three)"
   ]
  },
  {
   "cell_type": "code",
   "execution_count": null,
   "metadata": {},
   "outputs": [],
   "source": [
    "num_one=5\n",
    "num_two=4\n",
    "num_three=num_one/num_two\n",
    "print(num_three)"
   ]
  },
  {
   "cell_type": "code",
   "execution_count": null,
   "metadata": {},
   "outputs": [],
   "source": [
    "num_one=5\n",
    "num_two=4\n",
    "num_three=num_one%num_two\n",
    "print(num_three)"
   ]
  },
  {
   "cell_type": "code",
   "execution_count": null,
   "metadata": {},
   "outputs": [],
   "source": [
    "num_one=5\n",
    "num_two=4\n",
    "num_three=num_one**num_two\n",
    "print(num_three)"
   ]
  },
  {
   "cell_type": "code",
   "execution_count": null,
   "metadata": {},
   "outputs": [],
   "source": [
    "num_one=5\n",
    "num_two=4\n",
    "num_three=num_one//num_two\n",
    "print(num_three)"
   ]
  },
  {
   "cell_type": "code",
   "execution_count": 25,
   "metadata": {},
   "outputs": [
    {
     "name": "stdout",
     "output_type": "stream",
     "text": [
      "ypur the elder then me\n",
      "<__main__.age object at 0x000001DA8E785A30>\n"
     ]
    }
   ],
   "source": [
    "class age:\n",
    "    def __init__(self,age1,age2):\n",
    "        self.age1=age1\n",
    "        self.age2=age2\n",
    "        if age1>age2:\n",
    "            print(\"ypur the elder then me\")\n",
    "        else:\n",
    "            print(\"you are a yonger the me\")\n",
    "year=age(23,9)\n",
    "print(year)"
   ]
  },
  {
   "cell_type": "code",
   "execution_count": 29,
   "metadata": {},
   "outputs": [
    {
     "name": "stdout",
     "output_type": "stream",
     "text": [
      "mano\n",
      "12\n"
     ]
    }
   ],
   "source": [
    "class student:\n",
    "    def value(self,name,age):\n",
    "        self.name=name\n",
    "        self.age=age\n",
    "function=student()\n",
    "function.value(\"mano\",12)\n",
    "print(function.name)\n",
    "print(function.age)"
   ]
  },
  {
   "cell_type": "code",
   "execution_count": 36,
   "metadata": {},
   "outputs": [
    {
     "name": "stdout",
     "output_type": "stream",
     "text": [
      "manoj 22\n",
      "<__main__.student object at 0x000001DA8EB48820>\n"
     ]
    }
   ],
   "source": [
    "class student:\n",
    "    def __init__(self,name,age):\n",
    "        self.name=name\n",
    "        self.age=age\n",
    "        print(name+\" \"+str(age))\n",
    "value=student(\"manoj\",22)\n",
    "print(value)\n",
    "\n",
    "\n",
    "\n",
    "\n",
    "\n"
   ]
  },
  {
   "cell_type": "code",
   "execution_count": 38,
   "metadata": {},
   "outputs": [
    {
     "name": "stdout",
     "output_type": "stream",
     "text": [
      "manoj\n",
      "22\n"
     ]
    }
   ],
   "source": [
    "class name:\n",
    "    def __init__(self,name,age):\n",
    "        self.name=name\n",
    "        self.age=age\n",
    "student=name(\"manoj\",22)\n",
    "print(student.name)\n",
    "print(student.age)"
   ]
  },
  {
   "cell_type": "code",
   "execution_count": 46,
   "metadata": {},
   "outputs": [
    {
     "name": "stdout",
     "output_type": "stream",
     "text": [
      "manoj\n"
     ]
    }
   ],
   "source": [
    "class main:\n",
    "    def value(self,name,age):\n",
    "        self.fist_name=name\n",
    "        self.age=age\n",
    "val=main()\n",
    "val.value(\"manoj\",22)\n",
    "print(val.fist_name)"
   ]
  },
  {
   "cell_type": "code",
   "execution_count": 52,
   "metadata": {},
   "outputs": [
    {
     "name": "stdout",
     "output_type": "stream",
     "text": [
      "vishnu\n",
      "23\n"
     ]
    }
   ],
   "source": [
    "class main:\n",
    "    def __init__(self,name,age):\n",
    "        self.fist_name=name\n",
    "        self.age=age\n",
    "\n",
    "val=main(\"manoj\",22)\n",
    "val1=main(\"vishnu\",23)\n",
    "print(val1.fist]_name)\n",
    "print(val1.age)\n",
    "\n",
    "\n"
   ]
  },
  {
   "cell_type": "code",
   "execution_count": 59,
   "metadata": {},
   "outputs": [
    {
     "ename": "SyntaxError",
     "evalue": "EOL while scanning string literal (2045442490.py, line 11)",
     "output_type": "error",
     "traceback": [
      "\u001b[1;36m  Input \u001b[1;32mIn [59]\u001b[1;36m\u001b[0m\n\u001b[1;33m    val.c(\"nam)\u001b[0m\n\u001b[1;37m               ^\u001b[0m\n\u001b[1;31mSyntaxError\u001b[0m\u001b[1;31m:\u001b[0m EOL while scanning string literal\n"
     ]
    }
   ],
   "source": [
    "#inherteance\n",
    "\n",
    "class function:\n",
    "    def a():\n",
    "        print(\"helllo\",)\n",
    "    def b(a):\n",
    "        print(\"world\",a)\n",
    "    def c(b):\n",
    "        print(\"whats new...?\",b)\n",
    "val=function()\n",
    "val.c(\"nam)\n",
    "        "
   ]
  },
  {
   "cell_type": "code",
   "execution_count": 60,
   "metadata": {},
   "outputs": [
    {
     "ename": "TypeError",
     "evalue": "value() takes no arguments",
     "output_type": "error",
     "traceback": [
      "\u001b[1;31m---------------------------------------------------------------------------\u001b[0m",
      "\u001b[1;31mTypeError\u001b[0m                                 Traceback (most recent call last)",
      "\u001b[1;32md:\\fistprogrm.ipynb Cell 16\u001b[0m in \u001b[0;36m<cell line: 4>\u001b[1;34m()\u001b[0m\n\u001b[0;32m      <a href='vscode-notebook-cell:/d%3A/fistprogrm.ipynb#X22sZmlsZQ%3D%3D?line=1'>2</a>\u001b[0m     \u001b[39mdef\u001b[39;00m \u001b[39m__inti__\u001b[39m(\u001b[39mself\u001b[39m,name):\n\u001b[0;32m      <a href='vscode-notebook-cell:/d%3A/fistprogrm.ipynb#X22sZmlsZQ%3D%3D?line=2'>3</a>\u001b[0m         \u001b[39mself\u001b[39m\u001b[39m.\u001b[39mname\u001b[39m=\u001b[39mname\n\u001b[1;32m----> <a href='vscode-notebook-cell:/d%3A/fistprogrm.ipynb#X22sZmlsZQ%3D%3D?line=3'>4</a>\u001b[0m \u001b[39msum\u001b[39m\u001b[39m=\u001b[39mvalue(name\u001b[39m=\u001b[39;49m\u001b[39m\"\u001b[39;49m\u001b[39mmanoj\u001b[39;49m\u001b[39m\"\u001b[39;49m)\n",
      "\u001b[1;31mTypeError\u001b[0m: value() takes no arguments"
     ]
    }
   ],
   "source": [
    "class value:\n",
    "    def __inti__(self,name):\n",
    "        self.name=name\n",
    "sum=value(name=\"manoj\")"
   ]
  },
  {
   "cell_type": "code",
   "execution_count": 63,
   "metadata": {},
   "outputs": [
    {
     "name": "stdout",
     "output_type": "stream",
     "text": [
      "manoj 22\n"
     ]
    }
   ],
   "source": [
    "class value:\n",
    "    def __init__(self,fname,age):\n",
    "        self.fname=fname\n",
    "        self.age=age\n",
    "    def funtion(self):\n",
    "        print(self.fname,self.age)\n",
    "val=value(\"manoj\",22)\n",
    "val.funtion()"
   ]
  },
  {
   "cell_type": "code",
   "execution_count": 66,
   "metadata": {},
   "outputs": [
    {
     "name": "stdout",
     "output_type": "stream",
     "text": [
      "manojkuamr 22\n"
     ]
    }
   ],
   "source": [
    "class value:\n",
    "    def __init__(self,name,age):\n",
    "        self.name=name\n",
    "        self.age=age\n",
    "    def val(self):\n",
    "        print(self.name,self.age)\n",
    "value1=value(\"manojkuamr\",22)\n",
    "value1.val()"
   ]
  },
  {
   "cell_type": "code",
   "execution_count": 81,
   "metadata": {},
   "outputs": [
    {
     "name": "stdout",
     "output_type": "stream",
     "text": [
      "<bound method alpha.b of <__main__.alpha object at 0x000001DA8EDBA700>>\n"
     ]
    }
   ],
   "source": [
    "class alpha:\n",
    "    def a(self,name,age):\n",
    "        self.name=name\n",
    "        self.age=age\n",
    "    def b(self):\n",
    "        print(\"hello world\",self.name)\n",
    "    def c(self,b):\n",
    "        print(\"hello manoj\",age)\n",
    "value=alpha()\n",
    "value.a(\"manoj\",22)\n",
    "print(value.b)"
   ]
  },
  {
   "cell_type": "code",
   "execution_count": 79,
   "metadata": {},
   "outputs": [
    {
     "ename": "TypeError",
     "evalue": "a number is required",
     "output_type": "error",
     "traceback": [
      "\u001b[1;31m---------------------------------------------------------------------------\u001b[0m",
      "\u001b[1;31mTypeError\u001b[0m                                 Traceback (most recent call last)",
      "\u001b[1;32md:\\fistprogrm.ipynb Cell 20\u001b[0m in \u001b[0;36m<cell line: 5>\u001b[1;34m()\u001b[0m\n\u001b[0;32m      <a href='vscode-notebook-cell:/d%3A/fistprogrm.ipynb#X26sZmlsZQ%3D%3D?line=0'>1</a>\u001b[0m \u001b[39mfrom\u001b[39;00m \u001b[39mitertools\u001b[39;00m \u001b[39mimport\u001b[39;00m count\n\u001b[0;32m      <a href='vscode-notebook-cell:/d%3A/fistprogrm.ipynb#X26sZmlsZQ%3D%3D?line=3'>4</a>\u001b[0m a\u001b[39m=\u001b[39m[\u001b[39m1\u001b[39m,\u001b[39m2\u001b[39m,\u001b[39m3\u001b[39m,\u001b[39m4\u001b[39m,\u001b[39m5\u001b[39m,\u001b[39m6\u001b[39m,\u001b[39m7\u001b[39m]\n\u001b[1;32m----> <a href='vscode-notebook-cell:/d%3A/fistprogrm.ipynb#X26sZmlsZQ%3D%3D?line=4'>5</a>\u001b[0m b\u001b[39m=\u001b[39mcount(a)\n",
      "\u001b[1;31mTypeError\u001b[0m: a number is required"
     ]
    }
   ],
   "source": []
  },
  {
   "cell_type": "code",
   "execution_count": 97,
   "metadata": {},
   "outputs": [
    {
     "name": "stdout",
     "output_type": "stream",
     "text": [
      "My name is cherry manoj\n",
      "my name is chan\n"
     ]
    }
   ],
   "source": [
    "class Animal:\n",
    "    def dog(self,name):\n",
    "        print(\"My name is cherry\",name)\n",
    "class Bird(Animal):\n",
    "    def chan(self):\n",
    "        print(\"my name is chan\")\n",
    "Animal1=Bird()\n",
    "Animal1.dog(\"manoj\")\n",
    "Animal1.chan()"
   ]
  },
  {
   "cell_type": "code",
   "execution_count": 105,
   "metadata": {},
   "outputs": [
    {
     "name": "stdout",
     "output_type": "stream",
     "text": [
      "my name is manoj\n",
      "ypur name vishnu\n"
     ]
    }
   ],
   "source": [
    "class name:\n",
    "    def fist_name(self):\n",
    "        print(\"my name is manoj\")\n",
    "class your_name(name):\n",
    "    def second_name(self):\n",
    "        print(\"ypur name vishnu\")\n",
    "val1=your_name()\n",
    "val1.fist_name()\n",
    "val1.second_name()"
   ]
  },
  {
   "cell_type": "code",
   "execution_count": 108,
   "metadata": {},
   "outputs": [
    {
     "name": "stdout",
     "output_type": "stream",
     "text": [
      "manoj\n",
      "22\n"
     ]
    }
   ],
   "source": [
    "class funtion:\n",
    "    def __init__(self,name,age):\n",
    "        self.name=name\n",
    "        self.age=age\n",
    "val=funtion(\"manoj\",22)\n",
    "print(val.name)\n",
    "print(val.age)\n"
   ]
  },
  {
   "cell_type": "code",
   "execution_count": 113,
   "metadata": {},
   "outputs": [
    {
     "name": "stdout",
     "output_type": "stream",
     "text": [
      "manoj\n",
      "22\n"
     ]
    }
   ],
   "source": [
    "class function:\n",
    "    def value(self,name,age):\n",
    "        self.name=name\n",
    "        self.age=age\n",
    "val=function()\n",
    "val.value(\"manoj\",22)\n",
    "print(val.name)\n",
    "print(val.age)\n"
   ]
  },
  {
   "cell_type": "code",
   "execution_count": 123,
   "metadata": {},
   "outputs": [
    {
     "ename": "AttributeError",
     "evalue": "'value' object has no attribute 'fun1'",
     "output_type": "error",
     "traceback": [
      "\u001b[1;31m---------------------------------------------------------------------------\u001b[0m",
      "\u001b[1;31mAttributeError\u001b[0m                            Traceback (most recent call last)",
      "\u001b[1;32md:\\fistprogrm.ipynb Cell 25\u001b[0m in \u001b[0;36m<cell line: 20>\u001b[1;34m()\u001b[0m\n\u001b[0;32m     <a href='vscode-notebook-cell:/d%3A/fistprogrm.ipynb#X34sZmlsZQ%3D%3D?line=17'>18</a>\u001b[0m v1\u001b[39m=\u001b[39mvalue()\n\u001b[0;32m     <a href='vscode-notebook-cell:/d%3A/fistprogrm.ipynb#X34sZmlsZQ%3D%3D?line=18'>19</a>\u001b[0m v1\u001b[39m.\u001b[39mfun3(\u001b[39m\"\u001b[39m\u001b[39mmanoj\u001b[39m\u001b[39m\"\u001b[39m,\u001b[39m22\u001b[39m)\n\u001b[1;32m---> <a href='vscode-notebook-cell:/d%3A/fistprogrm.ipynb#X34sZmlsZQ%3D%3D?line=19'>20</a>\u001b[0m v1\u001b[39m.\u001b[39;49mfun1\n",
      "\u001b[1;31mAttributeError\u001b[0m: 'value' object has no attribute 'fun1'"
     ]
    }
   ],
   "source": [
    "class value:\n",
    "    def fun3(self,name,age):\n",
    "        self_name=name\n",
    "        self_age=age\n",
    "        pass\n",
    "    def cat(self):\n",
    "        print(\"your cat is tom\")\n",
    "class fun(value):\n",
    "    def fist(self):\n",
    "        print(\"manoj\")\n",
    "    def secound(self):\n",
    "        print(\"kumar\")\n",
    "class fun1(fun):\n",
    "    def dog1(self):\n",
    "        print(\"value is currt\")\n",
    "    def dog2(self):\n",
    "        print(\"value in this funtion\")\n",
    "v1=value()\n",
    "v1.fun3(\"manoj\",22)\n",
    "v\n"
   ]
  },
  {
   "cell_type": "code",
   "execution_count": null,
   "metadata": {},
   "outputs": [],
   "source": [
    "class fun:\n",
    "    def value(self,name,age):\n",
    "        self.name=name\n",
    "        self.age=age\n",
    "        print(\"what is your name:\",name)\n",
    "        print(\"what is your age:\",age)\n",
    "    def value2(self):\n",
    "        print(\"what is your aim\")\n",
    "class fun2(fun):\n",
    "    def value2(self):\n",
    "        print(\"value is curret\")\n",
    "    def value3(self):\n",
    "        print(\"funtion is currt\")\n",
    "class fun3(fun2):\n",
    "    def value3(self):\n",
    "        print(\"enter the value is wrong\")\n",
    "v\n"
   ]
  },
  {
   "cell_type": "code",
   "execution_count": null,
   "metadata": {},
   "outputs": [],
   "source": []
  },
  {
   "cell_type": "code",
   "execution_count": 161,
   "metadata": {},
   "outputs": [
    {
     "name": "stdout",
     "output_type": "stream",
     "text": [
      "____________________________________________\n",
      "<__main__.a object at 0x000001DA90F7E760>\n"
     ]
    }
   ],
   "source": [
    "class shop:\n",
    "    def __init__(self,name,size,company):\n",
    "        self.name=name\n",
    "        self.size=size\n",
    "        self.company=company\n",
    "class a(shop):\n",
    "    def value1(self):\n",
    "        print(\"your name:\",self.name)\n",
    "        print(\"your size:\",self.size)\n",
    "        print(\"what you buy company:\",self.company)\n",
    "print(\"____________________________________________\")\n",
    "class b(a):\n",
    "    def value2(self):\n",
    "        print(\"your name:\",self.name)\n",
    "        print(\"your size\",self.size)\n",
    "        print(\"enter yor company\",self.company)\n",
    "val=a(\"manoj\",7,\"addidass\")\n",
    "val.value1\n",
    "print(val)\n",
    "\n",
    "\n",
    "\n"
   ]
  },
  {
   "cell_type": "code",
   "execution_count": 143,
   "metadata": {},
   "outputs": [
    {
     "name": "stdout",
     "output_type": "stream",
     "text": [
      "<__main__.name_funtion object at 0x000001DA90F27040>\n"
     ]
    }
   ],
   "source": [
    "class value:\n",
    "    def __init__(self,name,age):\n",
    "        self.name=name\n",
    "        self.age=age\n",
    "    def value(self):\n",
    "       print(\"enter the name:\",name)\n",
    "       print(\"enter the age\",age)\n",
    "class name_funtion(value):\n",
    "    def value2(self):\n",
    "        print(\"your name:\",name)\n",
    "        print(\"your age:\",age)\n",
    "val=name_funtion(\"manoj\",22)\n",
    "val.value2\n",
    "print(val)"
   ]
  },
  {
   "cell_type": "code",
   "execution_count": 1,
   "metadata": {},
   "outputs": [
    {
     "name": "stdout",
     "output_type": "stream",
     "text": [
      "name of the cusmouer: manoj\n",
      "num of the size: 8\n",
      "name of brand: addiaaddd\n",
      "____________________________________\n",
      "name of the cusmouer: sankar\n",
      "num of the size: 9\n",
      "name of brand: pumaaa\n",
      "______________________________________\n",
      "name of the cusmouer: vishnu\n",
      "num of the size: 9\n",
      "name of brand: sapass\n"
     ]
    }
   ],
   "source": [
    "class shop:\n",
    "    def __init__(self,name,size,brand):\n",
    "        self.name=name\n",
    "        self.size=size\n",
    "        self.brand=brand\n",
    "class addidass(shop):\n",
    "    def com1(self):\n",
    "        print(\"name of the cusmouer:\",self.name)\n",
    "        print(\"num of the size:\",self.size)\n",
    "        print(\"name of brand:\",self.brand)  \n",
    "class puma(addidass):\n",
    "    def com2(self):\n",
    "        print(\"name of the cusmouer:\",self.name)\n",
    "        print(\"num of the size:\",self.size)\n",
    "        print(\"name of brand:\",self.brand) \n",
    "class nike(puma):\n",
    "    def com3(self):\n",
    "        print(\"name of the cusmouer:\",self.name)\n",
    "        print(\"num of the size:\",self.size)\n",
    "        print(\"name of brand:\",self.brand)\n",
    "        \n",
    "a=input(\"enter the name:\")  \n",
    "b=int(input(\"enter the size:\"))  \n",
    "c=input(\"enter the brand:\")   \n",
    "val=addidass(a,b,c)\n",
    "val.com1()\n",
    "print(\"____________________________________\")\n",
    "d=input(\"enter the name:\")\n",
    "e=int(input(\"enter the size:\"))\n",
    "f=input(\"enter the brand\")\n",
    "val2=puma(d,e,f)\n",
    "val2.com2()\n",
    "print(\"______________________________________\")\n",
    "g=input(\"enter the name:\")\n",
    "h=int(input(\"enter the size:\"))\n",
    "i=input(\"enter the brand\")\n",
    "val3=nike(g,h,i)\n",
    "val3.com3()"
   ]
  },
  {
   "cell_type": "code",
   "execution_count": 185,
   "metadata": {},
   "outputs": [
    {
     "name": "stdout",
     "output_type": "stream",
     "text": [
      "file name is call in thavalue in name value\n"
     ]
    }
   ],
   "source": [
    "a=open(\"file2.txt\",\"w\")\n",
    "a.write(\"file name is call in thavalue in name value\")\n",
    "a=open(\"file2.txt\",\"r\")\n",
    "print(a.read())\n",
    "a.close()\n"
   ]
  },
  {
   "cell_type": "code",
   "execution_count": 184,
   "metadata": {},
   "outputs": [
    {
     "name": "stdout",
     "output_type": "stream",
     "text": [
      "hai manoj\n"
     ]
    }
   ],
   "source": [
    "b=open(\"manjj.txt\",\"w\")\n",
    "b.write(\"hai manoj\")\n",
    "b=open(\"manjj.txt\",\"r\")\n",
    "print(b.read())\n",
    "b.close()"
   ]
  },
  {
   "cell_type": "code",
   "execution_count": 188,
   "metadata": {},
   "outputs": [
    {
     "name": "stdout",
     "output_type": "stream",
     "text": [
      "hello manojkumar\n"
     ]
    }
   ],
   "source": [
    "c=open(\"m1.txt\",\"w\")\n",
    "c.write(\"hello manojkumar\")\n",
    "c=open(\"m1.txt\",\"r\")\n",
    "print(c.read())\n",
    "c.close()"
   ]
  },
  {
   "cell_type": "code",
   "execution_count": 199,
   "metadata": {},
   "outputs": [
    {
     "name": "stdout",
     "output_type": "stream",
     "text": [
      "name manoj\n",
      "age 22\n",
      "enter name: manoj\n",
      "enter the name: 22\n",
      "enter the value manoj\n",
      "value age: 33\n"
     ]
    }
   ],
   "source": [
    "class value:\n",
    "    def __init__(self,name,age):\n",
    "        self.name=name\n",
    "        self.age=age\n",
    "class value1(value):\n",
    "    def v2(self):\n",
    "        print(\"name\",self.name)\n",
    "        print(\"age\",self.age)\n",
    "    def v3(self):\n",
    "        print(\"enter name:\",self.name)\n",
    "        print(\"enter the name:\",self.age)\n",
    "class value2(value1):\n",
    "    def v4(self):\n",
    "        print(\"enter the value\",self.name)\n",
    "        print(\"value age:\",self.age)\n",
    "val=value1(\"manoj\",22)\n",
    "val.v2()\n",
    "val.v3()\n",
    "val2=value2(\"manoj\",33)\n",
    "val2.v4()\n"
   ]
  },
  {
   "cell_type": "code",
   "execution_count": 4,
   "metadata": {},
   "outputs": [
    {
     "name": "stdout",
     "output_type": "stream",
     "text": [
      "your name is : manoj\n",
      "your class is bca\n",
      "enter the name of value: vishnu\n",
      "netr the name: bca\n"
     ]
    }
   ],
   "source": [
    "class value:\n",
    "    def __init__(self,name,clas):\n",
    "        self.name=name\n",
    "        self.clas=clas\n",
    "class value2(value):\n",
    "    def name2(self):\n",
    "        print(\"your name is :\",self.name)\n",
    "        print(\"your class is\",self.clas)\n",
    "    def name3(self):\n",
    "        print(self.name)\n",
    "        print(self.clas)\n",
    "class value3(value2):\n",
    "    def name4(self):\n",
    "        print(\"enter the name of value:\",self.name)\n",
    "        print(\"netr the name:\",self.clas)\n",
    "    def name5(self):\n",
    "        print(self.name)\n",
    "        print(self.name)\n",
    "val1=value2(\"manoj\",\"bca\")\n",
    "val1.name2()\n",
    "val3=value3(\"vishnu\",\"bca\")\n",
    "val3.name4()"
   ]
  },
  {
   "cell_type": "code",
   "execution_count": 8,
   "metadata": {},
   "outputs": [
    {
     "name": "stdout",
     "output_type": "stream",
     "text": [
      "enter the resunabel value\n",
      "finally program ended\n"
     ]
    }
   ],
   "source": [
    "try:\n",
    "    a=10\n",
    "    b=2,21.2\n",
    "    c=a+b\n",
    "    print(c)\n",
    "except TypeError:\n",
    "    print(\"enter the resunabel value\")\n",
    "finally:\n",
    "    print(\"finally program ended\")\n",
    "\n"
   ]
  },
  {
   "cell_type": "code",
   "execution_count": 24,
   "metadata": {},
   "outputs": [
    {
     "name": "stdout",
     "output_type": "stream",
     "text": [
      "this program is nornaml value is printeed\n",
      "those program is value in the funtion\n"
     ]
    }
   ],
   "source": [
    "try:\n",
    "    a=10\n",
    "    b=a,1\n",
    "    if a<=b:\n",
    "        print(\"enter the is th{}\".format(a))\n",
    "    else:\n",
    "        print(\"is this value is naromal value in \")\n",
    "except:\n",
    "    print(\"this program is nornaml value is printeed\")\n",
    "finally:\n",
    "       print(\"those program is value in the funtion\")"
   ]
  },
  {
   "cell_type": "code",
   "execution_count": 33,
   "metadata": {},
   "outputs": [
    {
     "name": "stdout",
     "output_type": "stream",
     "text": [
      "yor error program is wong placetry agin\n",
      "your progrm is wright enjoy\n"
     ]
    }
   ],
   "source": [
    "try:\n",
    "    a=int(input(\"enter the 1st number:\"))\n",
    "    b=int(input(\"enter the sound num:\"))\n",
    "    c=a/b\n",
    "    print(\"your value is \",int(c))\n",
    "except ZeroDivisionError:\n",
    "    print(\"yor error program is wong placetry agin\")\n",
    "except ValueError:\n",
    "    print(\"your value is wong\")\n",
    "finally:\n",
    "    print(\"your progrm is wright enjoy\")"
   ]
  },
  {
   "cell_type": "code",
   "execution_count": 38,
   "metadata": {},
   "outputs": [
    {
     "name": "stdout",
     "output_type": "stream",
     "text": [
      "5\n",
      "ans is wright\n"
     ]
    }
   ],
   "source": [
    "try:\n",
    "    a=10\n",
    "    b=2\n",
    "    c=a/b\n",
    "    print(int(c))\n",
    "except:\n",
    "    print(\"worng ans\")\n",
    "else:\n",
    "    print(\"ans is wright\")"
   ]
  },
  {
   "cell_type": "code",
   "execution_count": 60,
   "metadata": {},
   "outputs": [
    {
     "name": "stdout",
     "output_type": "stream",
     "text": [
      "ok\n"
     ]
    }
   ],
   "source": [
    "try:\n",
    "    c=open(\"vmk.txt\",\"r\")\n",
    "    c.read()\n",
    "except:\n",
    "    print(\"file is not found\")\n",
    "finally:\n",
    "    print(\"ok\")"
   ]
  },
  {
   "cell_type": "code",
   "execution_count": 51,
   "metadata": {},
   "outputs": [
    {
     "data": {
      "text/plain": [
       "'hello namm valiki la nam a munnadi poonum na nammathan muyarchai pannanum ok va...'"
      ]
     },
     "execution_count": 51,
     "metadata": {},
     "output_type": "execute_result"
    }
   ],
   "source": [
    "a=input(\"enter the file name:\")\n",
    "c=open(a,\"r\")\n",
    "c.read()"
   ]
  },
  {
   "cell_type": "code",
   "execution_count": null,
   "metadata": {},
   "outputs": [],
   "source": [
    "import "
   ]
  },
  {
   "cell_type": "code",
   "execution_count": 86,
   "metadata": {},
   "outputs": [
    {
     "name": "stdout",
     "output_type": "stream",
     "text": [
      "1\n",
      "12\n",
      "123\n",
      "1234\n",
      "12345\n"
     ]
    }
   ],
   "source": [
    "for i in range(1,5+1):\n",
    "    for j in range(1,i+1):\n",
    "        print(j,end=\" \")\n",
    "    print(\"\")"
   ]
  },
  {
   "cell_type": "code",
   "execution_count": 88,
   "metadata": {},
   "outputs": [
    {
     "name": "stdout",
     "output_type": "stream",
     "text": [
      "*\n",
      "**\n",
      "***\n",
      "****\n",
      "*****\n",
      "******\n",
      "*******\n",
      "********\n",
      "*********\n"
     ]
    }
   ],
   "source": [
    "for i in range(1,10):\n",
    "    print(\"*\"*i)"
   ]
  },
  {
   "cell_type": "code",
   "execution_count": 101,
   "metadata": {},
   "outputs": [
    {
     "name": "stdout",
     "output_type": "stream",
     "text": [
      "55\n"
     ]
    }
   ],
   "source": [
    "a=0\n",
    "b=int(input(\"enterthe value:\"))\n",
    "for i in range(1,b+1,1):\n",
    "    a=a+i\n",
    "print(a)\n"
   ]
  },
  {
   "cell_type": "code",
   "execution_count": 115,
   "metadata": {},
   "outputs": [
    {
     "name": "stdout",
     "output_type": "stream",
     "text": [
      "2\n",
      "4\n",
      "6\n",
      "8\n",
      "10\n",
      "12\n",
      "14\n",
      "16\n",
      "18\n",
      "20\n"
     ]
    }
   ],
   "source": [
    "for i in range(1,10+1):\n",
    "    num=2*i\n",
    "    print(num)\n",
    "    "
   ]
  },
  {
   "cell_type": "code",
   "execution_count": 118,
   "metadata": {},
   "outputs": [
    {
     "name": "stdout",
     "output_type": "stream",
     "text": [
      "75\n",
      "150\n",
      "145\n"
     ]
    }
   ],
   "source": [
    "numbers = [12, 75, 150, 180, 145, 525, 50]\n",
    "for i in numbers:\n",
    "    if i>500:\n",
    "        break\n",
    "    elif i>150:\n",
    "        continue\n",
    "    elif i%5==0:\n",
    "        print(i)"
   ]
  },
  {
   "cell_type": "code",
   "execution_count": 124,
   "metadata": {},
   "outputs": [
    {
     "name": "stdout",
     "output_type": "stream",
     "text": [
      "7\n"
     ]
    }
   ],
   "source": [
    "num=2184311\n",
    "count=0\n",
    "while num!=0:\n",
    "    num=num//10\n",
    "    count=count+1\n",
    "print(count)"
   ]
  },
  {
   "cell_type": "code",
   "execution_count": 125,
   "metadata": {},
   "outputs": [
    {
     "data": {
      "text/plain": [
       "218431"
      ]
     },
     "execution_count": 125,
     "metadata": {},
     "output_type": "execute_result"
    }
   ],
   "source": [
    "2184311//10"
   ]
  }
 ],
 "metadata": {
  "kernelspec": {
   "display_name": "Python 3.9.13 64-bit",
   "language": "python",
   "name": "python3"
  },
  "language_info": {
   "codemirror_mode": {
    "name": "ipython",
    "version": 3
   },
   "file_extension": ".py",
   "mimetype": "text/x-python",
   "name": "python",
   "nbconvert_exporter": "python",
   "pygments_lexer": "ipython3",
   "version": "3.9.13"
  },
  "orig_nbformat": 4,
  "vscode": {
   "interpreter": {
    "hash": "0b65658f0b47f1e718d77a7c3ab67fc9fb7381c9ed150864adb001bfb845b388"
   }
  }
 },
 "nbformat": 4,
 "nbformat_minor": 2
}
